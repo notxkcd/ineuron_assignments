{
 "cells": [
  {
   "cell_type": "markdown",
   "id": "cab9b7fe-e067-4fff-8375-17d263cdcbd6",
   "metadata": {},
   "source": [
    "# Assignment_3\n"
   ]
  },
  {
   "cell_type": "markdown",
   "id": "a42f7b3f-b189-443f-8b40-7f008c8ae824",
   "metadata": {},
   "source": [
    "#### 1. Why are functions advantageous to have in your programs?"
   ]
  },
  {
   "cell_type": "markdown",
   "id": "6a11c00f-0cba-4b48-9c82-30cca228101f",
   "metadata": {},
   "source": [
    "functions are advantageous to me because I can resue the components which I already created thus I dont have to do (DRY).\n",
    "They also enable code reusability, saving time and effort when performing repetitive tasks"
   ]
  },
  {
   "cell_type": "markdown",
   "id": "b08801b2-c2cc-475f-9200-407be69b5e75",
   "metadata": {},
   "source": [
    "#### 2. When does the code in a function run: when it&#39;s specified or when it&#39;s called?"
   ]
  },
  {
   "cell_type": "markdown",
   "id": "2079f988-8ace-4031-b33c-f98ae0915970",
   "metadata": {},
   "source": [
    "When it's called."
   ]
  },
  {
   "cell_type": "markdown",
   "id": "e06b64a9-999d-4575-82ce-e039d48edc7a",
   "metadata": {},
   "source": [
    "#### 3. What statement creates a function?"
   ]
  },
  {
   "cell_type": "markdown",
   "id": "28e58c62-7b90-4d05-8b2b-cd570c58ec3e",
   "metadata": {},
   "source": [
    "The def statement is used to create a function in Python."
   ]
  },
  {
   "cell_type": "markdown",
   "id": "3d187cd5-df38-4880-9690-4483f0f7d93a",
   "metadata": {},
   "source": [
    "#### 4. What is the difference between a function and a function call?"
   ]
  },
  {
   "cell_type": "markdown",
   "id": "8ff07b55-e67f-4bc8-91d4-66df3449b3ba",
   "metadata": {},
   "source": [
    "**A function** is a block of reusable code that performs a specific task.\\\n",
    "**A function call** is the action of invoking or executing that function to run the code it contains."
   ]
  },
  {
   "cell_type": "markdown",
   "id": "46ec7398-db2c-4868-af84-33f2838be032",
   "metadata": {},
   "source": [
    "#### 5. How many global scopes are there in a Python program? How many local scopes?"
   ]
  },
  {
   "cell_type": "markdown",
   "id": "8cd456b8-f80f-41ba-af4e-723055e30717",
   "metadata": {},
   "source": [
    "A Python program has only one global scope that exists throughout the program's execution. The number of local scopes varies, as a new local scope is created each time a function is called."
   ]
  },
  {
   "cell_type": "markdown",
   "id": "6f94b634-0d80-42fc-ac85-d30c2fa1d822",
   "metadata": {},
   "source": [
    "#### 6. What happens to variables in a local scope when the function call returns?"
   ]
  },
  {
   "cell_type": "markdown",
   "id": "4f10b896-5e2e-49a3-a86f-c159d8bee0d4",
   "metadata": {},
   "source": [
    "When a function call returns, the variables in the local scope are deleted. They are no longer accessible because the local scope ceases to exist."
   ]
  },
  {
   "cell_type": "markdown",
   "id": "661767f4-4b7f-4f1e-a9ca-05299e55c64d",
   "metadata": {},
   "source": [
    "#### 7. What is the concept of a return value? Is it possible to have a return value in an expression?"
   ]
  },
  {
   "cell_type": "markdown",
   "id": "a9f90af7-d833-4078-ab48-e374b4e29f61",
   "metadata": {},
   "source": [
    "A **return value** is the output that a function provides after completing its task.\\\n",
    "**Yes**, in Python, a return value can be part of an expression."
   ]
  },
  {
   "cell_type": "markdown",
   "id": "f7592c7d-1619-4707-ab1f-c88f701775f1",
   "metadata": {},
   "source": [
    "#### 8. If a function does not have a return statement, what is the return value of a call to that function?"
   ]
  },
  {
   "cell_type": "markdown",
   "id": "b7a0d1e2-7336-49f6-9b3e-dec918bd9399",
   "metadata": {},
   "source": [
    "If a function does not have a return statement, it implicitly returns None when called. "
   ]
  },
  {
   "cell_type": "markdown",
   "id": "34cd957b-1634-48ff-873f-e84501995a59",
   "metadata": {},
   "source": [
    "#### 9. How do you make a function variable refer to the global variable?"
   ]
  },
  {
   "cell_type": "markdown",
   "id": "5dafe511-7939-4ecb-891a-49b9cbf14e6b",
   "metadata": {},
   "source": [
    "To make a function variable refer to a global variable in Python, you can use the global keyword within the function. "
   ]
  },
  {
   "cell_type": "markdown",
   "id": "ced2e04d-6d38-4a1b-a117-308fcfd3baea",
   "metadata": {},
   "source": [
    "#### 10. What is the data type of None?"
   ]
  },
  {
   "cell_type": "markdown",
   "id": "bc660286-f52d-40bc-ab70-bb0e99e834fe",
   "metadata": {},
   "source": [
    "The data type of None in Python is NoneType. "
   ]
  },
  {
   "cell_type": "markdown",
   "id": "2b7c06af-68b3-4d2f-9515-17cbf47d0585",
   "metadata": {},
   "source": [
    "#### 11. What does the sentence import areallyourpetsnamederic do?"
   ]
  },
  {
   "cell_type": "markdown",
   "id": "b650ad78-5af7-4a1e-8c83-d1f3d98e9051",
   "metadata": {},
   "source": [
    "The sentence `import areallyourpetsnamederic` attempts to import a module named areallyourpetsnamederic. If the module exists in the Python environment, it will make its `functions, classes, and variables` available for use; if it does not exist, Python will raise an `ImportError`."
   ]
  },
  {
   "cell_type": "markdown",
   "id": "fe467653-5eb7-4a7d-a2e9-6972a0cd251b",
   "metadata": {},
   "source": [
    "#### 12. If you had a bacon() feature in a spam module, what would you call it after importing spam?"
   ]
  },
  {
   "cell_type": "markdown",
   "id": "5db4b8d0-c636-4f3c-a1e1-0718939e3cc8",
   "metadata": {},
   "source": [
    "After importing the spam module, I will use \n",
    "```python\n",
    "spam.bacon()\n",
    "```"
   ]
  },
  {
   "cell_type": "markdown",
   "id": "cdc89890-1a65-4081-a393-dc08c179744e",
   "metadata": {},
   "source": [
    "#### 13. What can you do to save a programme from crashing if it encounters an error?"
   ]
  },
  {
   "cell_type": "markdown",
   "id": "daae9c81-76ac-447b-b7b2-f3ab58db657e",
   "metadata": {},
   "source": [
    "you can use a `try` and `except` block. This allows you to catch and handle exceptions gracefully, preventing the program from terminating unexpectedly."
   ]
  },
  {
   "cell_type": "markdown",
   "id": "3994d119-b5a0-4d8d-ab96-af30738cbd0a",
   "metadata": {},
   "source": [
    "#### 14. What is the purpose of the try clause? What is the purpose of the except clause?"
   ]
  },
  {
   "cell_type": "markdown",
   "id": "8ded4838-5543-4155-aa0f-549af450dea6",
   "metadata": {},
   "source": [
    "The `try` clause is used to wrap code that might cause an error, so you can attempt to run it without crashing the program. The `except` clause allows you to catch and handle any errors that occur, letting you take appropriate actions."
   ]
  }
 ],
 "metadata": {
  "kernelspec": {
   "display_name": "Python 3 (ipykernel)",
   "language": "python",
   "name": "python3"
  },
  "language_info": {
   "codemirror_mode": {
    "name": "ipython",
    "version": 3
   },
   "file_extension": ".py",
   "mimetype": "text/x-python",
   "name": "python",
   "nbconvert_exporter": "python",
   "pygments_lexer": "ipython3",
   "version": "3.11.7"
  }
 },
 "nbformat": 4,
 "nbformat_minor": 5
}
