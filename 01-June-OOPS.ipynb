{
 "cells": [
  {
   "cell_type": "markdown",
   "id": "1fec0326",
   "metadata": {},
   "source": [
    "# 1. What is the primary goal of Object-Oriented Programming (OOP)?\n"
   ]
  },
  {
   "cell_type": "markdown",
   "id": "84ea05c6",
   "metadata": {},
   "source": [
    "The primary goal of Object-Oriented Programming (OOP) is to model real-world entities and their interactions using the concepts of objects, classes, inheritance, and polymorphism. This approach aims to make software more modular, reusable, and easier to maintain.\n"
   ]
  },
  {
   "cell_type": "markdown",
   "id": "7a4d15da",
   "metadata": {},
   "source": [
    "# 2. What is an object in Python?\n"
   ]
  },
  {
   "cell_type": "markdown",
   "id": "0cc1f82d",
   "metadata": {},
   "source": [
    "In Python, an object is an instance of a class. It represents a specific entity with its own unique set of attributes (data) and behaviors (methods). For example, a car object can have attributes like `color`, `model`, and `speed`, and methods like `start()`, `stop()`.\n"
   ]
  },
  {
   "cell_type": "markdown",
   "id": "c73a9885",
   "metadata": {},
   "source": [
    "# 3. What is a class in Python?\n"
   ]
  },
  {
   "cell_type": "markdown",
   "id": "f8b8ca2c",
   "metadata": {},
   "source": [
    "A class in Python is a blueprint or template for creating objects. It defines the attributes (data members) and methods (functions) that objects of that class will have. For example, the `Car` class defines attributes like `color`, `model`, and `speed` and methods like `start()`, `stop()`.\n"
   ]
  },
  {
   "cell_type": "markdown",
   "id": "360cecc1",
   "metadata": {},
   "source": [
    "# 4. What are attributes and methods in a class?\n"
   ]
  },
  {
   "cell_type": "markdown",
   "id": "ff2e9c04",
   "metadata": {},
   "source": [
    "Attributes are variables that belong to an object or class. They define the properties or characteristics of the object. Methods are functions defined within a class that define the behavior of the object.\n"
   ]
  },
  {
   "cell_type": "markdown",
   "id": "fe6c9f7b",
   "metadata": {},
   "source": [
    "# 5. What is the difference between class variables and instance variables in Python?\n"
   ]
  },
  {
   "cell_type": "markdown",
   "id": "3a3568b0",
   "metadata": {},
   "source": [
    "Class variables are shared by all instances of a class. They are defined within the class but outside any methods. Instance variables are unique to each instance of the class and are typically defined inside the `__init__` method.\n"
   ]
  },
  {
   "cell_type": "markdown",
   "id": "5720a730",
   "metadata": {},
   "source": [
    "# 6. What is the purpose of the self parameter in Python class methods?\n"
   ]
  },
  {
   "cell_type": "markdown",
   "id": "cc77462b",
   "metadata": {},
   "source": [
    "The `self` parameter in Python refers to the instance of the class. It is used to access the attributes and methods of the class within the class itself. It is a convention that allows the object to refer to itself.\n"
   ]
  },
  {
   "cell_type": "markdown",
   "id": "360cecc1",
   "metadata": {},
   "source": [
    "# 7. Design the \"Book\" class for a library management system:\n"
   ]
  },
  {
   "cell_type": "code",
   "execution_count": 2,
   "id": "d55e10ad",
   "metadata": {},
   "outputs": [],
   "source": [
    "class Book:\n",
    "    def __init__(self, title, author, isbn, publication_year, available_copies):\n",
    "        self.title = title\n",
    "        self.author = author\n",
    "        self.isbn = isbn\n",
    "        self.publication_year = publication_year\n",
    "        self.available_copies = available_copies\n",
    "\n",
    "    def check_out(self):\n",
    "        if self.available_copies > 0:\n",
    "            self.available_copies -= 1\n",
    "            print(\"Book checked out successfully.\")\n",
    "        else:\n",
    "            print(\"No copies available for checkout.\")\n",
    "\n",
    "    def return_book(self):\n",
    "        self.available_copies += 1\n",
    "        print(\"Book returned successfully.\")\n",
    "\n",
    "    def display_book_info(self):\n",
    "        print(f\"Title: {self.title}\")\n",
    "        print(f\"Author: {self.author}\")\n",
    "        print(f\"ISBN: {self.isbn}\")\n",
    "        print(f\"Publication Year: {self.publication_year}\")\n",
    "        print(f\"Available Copies: {self.available_copies}\")"
   ]
  },
  {
   "cell_type": "markdown",
   "id": "8ea5200d",
   "metadata": {},
   "source": [
    "# 8. Design the \"Ticket\" class for a ticket booking system:\n"
   ]
  },
  {
   "cell_type": "code",
   "execution_count": 3,
   "id": "2d1ad9ea",
   "metadata": {},
   "outputs": [],
   "source": [
    "class Ticket:\n",
    "    def __init__(self, ticket_id, event_name, event_date, venue, seat_number, price):\n",
    "        self.ticket_id = ticket_id\n",
    "        self.event_name = event_name\n",
    "        self.event_date = event_date\n",
    "        self.venue = venue\n",
    "        self.seat_number = seat_number\n",
    "        self.price = price\n",
    "        self.is_reserved = False\n",
    "\n",
    "    def reserve_ticket(self):\n",
    "        if not self.is_reserved:\n",
    "            self.is_reserved = True\n",
    "            print(\"Ticket reserved successfully.\")\n",
    "        else:\n",
    "            print(\"Ticket already reserved.\")\n",
    "\n",
    "    def cancel_reservation(self):\n",
    "        if self.is_reserved:\n",
    "            self.is_reserved = False\n",
    "            print(\"Reservation cancelled.\")\n",
    "        else:\n",
    "            print(\"Ticket not reserved.\")\n",
    "\n",
    "    def display_ticket_info(self):\n",
    "        print(f\"Ticket ID: {self.ticket_id}\")\n",
    "        print(f\"Event Name: {self.event_name}\")\n",
    "        print(f\"Event Date: {self.event_date}\")\n",
    "        print(f\"Venue: {self.venue}\")\n",
    "        print(f\"Seat Number: {self.seat_number}\")\n",
    "        print(f\"Price: {self.price}\")\n",
    "        print(f\"Reserved: {self.is_reserved}\")"
   ]
  },
  {
   "cell_type": "markdown",
   "id": "9a2079e9",
   "metadata": {},
   "source": [
    "# 9. Design the \"ShoppingCart\" class for an e-commerce website:\n"
   ]
  },
  {
   "cell_type": "code",
   "execution_count": 4,
   "id": "b43a368a",
   "metadata": {},
   "outputs": [],
   "source": [
    "class ShoppingCart:\n",
    "    def __init__(self):\n",
    "        self.items = []\n",
    "\n",
    "    def add_item(self, item):\n",
    "        self.items.append(item)\n",
    "        print(f\"{item} added to the cart.\")\n",
    "\n",
    "    def remove_item(self, item):\n",
    "        if item in self.items:\n",
    "            self.items.remove(item)\n",
    "            print(f\"{item} removed from the cart.\")\n",
    "        else:\n",
    "            print(f\"{item} not found in the cart.\")\n",
    "\n",
    "    def view_cart(self):\n",
    "        print(\"Items in your cart:\")\n",
    "        for item in self.items:\n",
    "            print(item)\n",
    "\n",
    "    def checkout(self):\n",
    "        total = sum([item['price'] for item in self.items])\n",
    "        print(f\"Total Price: {total}\")\n",
    "        print(\"Thank you for shopping!\")"
   ]
  },
  {
   "cell_type": "markdown",
   "id": "50b313bb",
   "metadata": {},
   "source": [
    "# 10. What is inheritance in Python? Provide an example.\n"
   ]
  },
  {
   "cell_type": "markdown",
   "id": "1b0d84bb",
   "metadata": {},
   "source": [
    "Inheritance allows a class to inherit attributes and methods from another class. This promotes code reuse and can be used to create a hierarchy of classes. For example, a `Dog` class can inherit from an `Animal` class.\n"
   ]
  },
  {
   "cell_type": "code",
   "execution_count": 5,
   "id": "d55e10ad",
   "metadata": {},
   "outputs": [],
   "source": [
    "class Animal:\n",
    "    def __init__(self, name):\n",
    "        self.name = name\n",
    "\n",
    "    def speak(self):\n",
    "        print(f\"{self.name} makes a sound.\")\n",
    "\n",
    "class Dog(Animal):\n",
    "    def __init__(self, name, breed):\n",
    "        super().__init__(name)\n",
    "        self.breed = breed\n",
    "\n",
    "    def speak(self):\n",
    "        print(f\"{self.name} barks.\")\n",
    "\n",
    "dog = Dog(\"Buddy\", \"Golden Retriever\")\n",
    "dog.speak()  # Output: Buddy barks."
   ]
  },
  {
   "cell_type": "markdown",
   "id": "dc1ed6c5",
   "metadata": {},
   "source": [
    "# 11. What is polymorphism in Python? Provide an example.\n"
   ]
  },
  {
   "cell_type": "markdown",
   "id": "3e6fe922",
   "metadata": {},
   "source": [
    "Polymorphism allows different classes to provide their own implementation of a method that is defined in a parent class. The same method name can behave differently for different objects.\n"
   ]
  },
  {
   "cell_type": "code",
   "execution_count": 6,
   "id": "11b5804b",
   "metadata": {},
   "outputs": [],
   "source": [
    "class Bird:\n",
    "    def speak(self):\n",
    "        print(\"The bird sings.\")\n",
    "\n",
    "class Dog(Animal):\n",
    "    def speak(self):\n",
    "        print(\"The dog barks.\")\n",
    "\n",
    "bird = Bird()\n",
    "dog = Dog(\"Buddy\", \"Golden Retriever\")\n",
    "bird.speak()  # Output: The bird sings.\n",
    "dog.speak()   # Output: Buddy barks."
   ]
  }
 ]
}
