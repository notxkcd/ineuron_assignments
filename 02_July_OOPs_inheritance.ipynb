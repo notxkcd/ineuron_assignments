{
 "cells": [
  {
   "cell_type": "markdown",
   "id": "45338f62",
   "metadata": {},
   "source": [
    "Inheritance in OOP allows one class (derived) to acquire properties and methods from another (base). It's used to promote code reusability and organization.\n",
    "\n",
    "\n"
   ]
  },
  {
   "cell_type": "markdown",
   "id": "ad864b78",
   "metadata": {},
   "source": [
    "Single Inheritance: One class inherits from another. Multiple Inheritance: One class inherits from multiple classes. Single is simpler, while multiple allows more flexibility but can lead to complexity (e.g., diamond problem).\n"
   ]
  },
  {
   "cell_type": "markdown",
   "id": "18a37688",
   "metadata": {},
   "source": [
    "Base Class: The class being inherited from. Derived Class: The class inheriting from the base class.\n"
   ]
  },
  {
   "cell_type": "markdown",
   "id": "a623b9d4",
   "metadata": {},
   "source": [
    "The protected modifier allows access within the class and derived classes, but not from outside. Private is restricted to the class, and public is accessible everywhere.\n"
   ]
  },
  {
   "cell_type": "markdown",
   "id": "778a2d23",
   "metadata": {},
   "source": [
    "The super keyword calls methods from a base class. Example: super().method() invokes the parent’s method."
   ]
  },
  {
   "cell_type": "code",
   "execution_count": 2,
   "id": "3d82d933",
   "metadata": {},
   "outputs": [],
   "source": [
    "class Vehicle:\n",
    "    def __init__(self, make, model, year):\n",
    "        self.make = make\n",
    "        self.model = model\n",
    "        self.year = year\n",
    "\n",
    "class Car(Vehicle):\n",
    "    def __init__(self, make, model, year, fuel_type):\n",
    "        super().__init__(make, model, year)\n",
    "        self.fuel_type = fuel_type\n"
   ]
  },
  {
   "cell_type": "code",
   "execution_count": 3,
   "id": "a37e401b",
   "metadata": {},
   "outputs": [],
   "source": [
    "class Employee:\n",
    "    def __init__(self, name, salary):\n",
    "        self.name = name\n",
    "        self.salary = salary\n",
    "\n",
    "class Manager(Employee):\n",
    "    def __init__(self, name, salary, department):\n",
    "        super().__init__(name, salary)\n",
    "        self.department = department\n",
    "\n",
    "class Developer(Employee):\n",
    "    def __init__(self, name, salary, programming_language):\n",
    "        super().__init__(name, salary)\n",
    "        self.programming_language = programming_language\n"
   ]
  },
  {
   "cell_type": "code",
   "execution_count": 4,
   "id": "ce66e68b",
   "metadata": {},
   "outputs": [],
   "source": [
    "class Shape:\n",
    "    def __init__(self, colour, border_width):\n",
    "        self.colour = colour\n",
    "        self.border_width = border_width\n",
    "\n",
    "class Rectangle(Shape):\n",
    "    def __init__(self, colour, border_width, length, width):\n",
    "        super().__init__(colour, border_width)\n",
    "        self.length = length\n",
    "        self.width = width\n",
    "\n",
    "class Circle(Shape):\n",
    "    def __init__(self, colour, border_width, radius):\n",
    "        super().__init__(colour, border_width)\n",
    "        self.radius = radius\n"
   ]
  },
  {
   "cell_type": "code",
   "execution_count": 5,
   "id": "db17f96d",
   "metadata": {},
   "outputs": [],
   "source": [
    "class Device:\n",
    "    def __init__(self, brand, model):\n",
    "        self.brand = brand\n",
    "        self.model = model\n",
    "\n",
    "class Phone(Device):\n",
    "    def __init__(self, brand, model, screen_size):\n",
    "        super().__init__(brand, model)\n",
    "        self.screen_size = screen_size\n",
    "\n",
    "class Tablet(Device):\n",
    "    def __init__(self, brand, model, battery_capacity):\n",
    "        super().__init__(brand, model)\n",
    "        self.battery_capacity = battery_capacity\n"
   ]
  },
  {
   "cell_type": "code",
   "execution_count": 6,
   "id": "69195492",
   "metadata": {},
   "outputs": [],
   "source": [
    "class BankAccount:\n",
    "    def __init__(self, account_number, balance):\n",
    "        self.account_number = account_number\n",
    "        self.balance = balance\n",
    "\n",
    "class SavingsAccount(BankAccount):\n",
    "    def calculate_interest(self):\n",
    "        # Some interest calculation\n",
    "        pass\n",
    "\n",
    "class CheckingAccount(BankAccount):\n",
    "    def deduct_fees(self):\n",
    "        # Some fee deduction\n",
    "        pass\n"
   ]
  },
  {
   "cell_type": "code",
   "execution_count": null,
   "id": "c0c216b8",
   "metadata": {},
   "outputs": [],
   "source": []
  }
 ],
 "metadata": {
  "kernelspec": {
   "display_name": "Python (myenv)",
   "language": "python",
   "name": "myenv"
  },
  "language_info": {
   "codemirror_mode": {
    "name": "ipython",
    "version": 3
   },
   "file_extension": ".py",
   "mimetype": "text/x-python",
   "name": "python",
   "nbconvert_exporter": "python",
   "pygments_lexer": "ipython3",
   "version": "3.11.7"
  }
 },
 "nbformat": 4,
 "nbformat_minor": 5
}
