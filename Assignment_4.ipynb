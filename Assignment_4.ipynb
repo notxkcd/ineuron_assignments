{
 "cells": [
  {
   "cell_type": "markdown",
   "id": "6ec4a830",
   "metadata": {},
   "source": [
    "**1. What exactly is []?**"
   ]
  },
  {
   "cell_type": "code",
   "execution_count": 1,
   "id": "61fcb2b4",
   "metadata": {},
   "outputs": [
    {
     "name": "stdout",
     "output_type": "stream",
     "text": [
      "[] represents an empty list in Python.\n"
     ]
    }
   ],
   "source": [
    "# [] represents an empty list in Python.\n"
   ]
  },
  {
   "cell_type": "markdown",
   "id": "0f5f5b0d",
   "metadata": {},
   "source": [
    "**2. In a list of values stored in a variable called spam, how would you assign the value 'hello' as the third value? (Assume [2, 4, 6, 8, 10] are in spam.)**"
   ]
  },
  {
   "cell_type": "code",
   "execution_count": null,
   "id": "7f86174e",
   "metadata": {
    "scrolled": true
   },
   "outputs": [],
   "source": [
    "spam[2] = 'hello'"
   ]
  },
  {
   "cell_type": "markdown",
   "id": "a955db33",
   "metadata": {},
   "source": [
    "**3. What is the value of spam[int(int('3' * 2) / 11)]?**"
   ]
  },
  {
   "cell_type": "code",
   "execution_count": 3,
   "id": "b78fdd62",
   "metadata": {},
   "outputs": [
    {
     "name": "stdout",
     "output_type": "stream",
     "text": [
      "'d'\n"
     ]
    }
   ],
   "source": [
    "spam = ['a', 'b', 'c', 'd']\n",
    "# '3' * 2 gives '33', int('33') is 33, 33 / 11 is 3\n",
    "# So spam[3] is 'd'\n",
    "value = spam[int(int('3' * 2) / 11)]\n",
    "value\n"
   ]
  },
  {
   "cell_type": "markdown",
   "id": "7459af33",
   "metadata": {},
   "source": [
    "**4. What is the value of spam[-1]?**"
   ]
  },
  {
   "cell_type": "code",
   "execution_count": 4,
   "id": "c11d34be",
   "metadata": {},
   "outputs": [
    {
     "name": "stdout",
     "output_type": "stream",
     "text": [
      "'d'\n"
     ]
    }
   ],
   "source": [
    "spam = ['a', 'b', 'c', 'd']\n",
    "# The last element in the list is 'd'\n",
    "value = spam[-1]\n",
    "value\n"
   ]
  },
  {
   "cell_type": "markdown",
   "id": "b02e765e",
   "metadata": {},
   "source": [
    "**5. What is the value of spam[:2]?**"
   ]
  },
  {
   "cell_type": "code",
   "execution_count": 5,
   "id": "f00fd92e",
   "metadata": {},
   "outputs": [
    {
     "name": "stdout",
     "output_type": "stream",
     "text": [
      "['a', 'b']\n"
     ]
    }
   ],
   "source": [
    "spam = ['a', 'b', 'c', 'd']\n",
    "# The slice spam[:2] returns the first two elements: ['a', 'b']\n",
    "value = spam[:2]\n",
    "value\n"
   ]
  },
  {
   "cell_type": "markdown",
   "id": "42e0e738",
   "metadata": {},
   "source": [
    "**6. What is the value of bacon.index('cat')?**"
   ]
  },
  {
   "cell_type": "code",
   "execution_count": 6,
   "id": "4a94d607",
   "metadata": {},
   "outputs": [
    {
     "name": "stdout",
     "output_type": "stream",
     "text": [
      "1\n"
     ]
    }
   ],
   "source": [
    "bacon = [3.14, 'cat', 11, 'cat', True]\n",
    "# 'cat' first appears at index 1\n",
    "value = bacon.index('cat')\n",
    "value\n"
   ]
  },
  {
   "cell_type": "markdown",
   "id": "6cbd5aac",
   "metadata": {},
   "source": [
    "**7. How does bacon.append(99) change the look of the list value in bacon?**"
   ]
  },
  {
   "cell_type": "code",
   "execution_count": 7,
   "id": "3a022156",
   "metadata": {},
   "outputs": [
    {
     "name": "stdout",
     "output_type": "stream",
     "text": [
      "[3.14, 'cat', 11, 'cat', True, 99]\n"
     ]
    }
   ],
   "source": [
    "bacon = [3.14, 'cat', 11, 'cat', True]\n",
    "# bacon.append(99) adds 99 to the end of the list\n",
    "bacon.append(99)\n",
    "bacon\n"
   ]
  },
  {
   "cell_type": "markdown",
   "id": "7f3baef3",
   "metadata": {},
   "source": [
    "**8. How does bacon.remove('cat') change the look of the list in bacon?**"
   ]
  },
  {
   "cell_type": "code",
   "execution_count": 8,
   "id": "90712e96",
   "metadata": {},
   "outputs": [
    {
     "name": "stdout",
     "output_type": "stream",
     "text": [
      "[3.14, 11, 'cat', True]\n"
     ]
    }
   ],
   "source": [
    "bacon = [3.14, 'cat', 11, 'cat', True]\n",
    "# bacon.remove('cat') removes the first occurrence of 'cat'\n",
    "bacon.remove('cat')\n",
    "bacon\n"
   ]
  },
  {
   "cell_type": "markdown",
   "id": "f70392dd",
   "metadata": {},
   "source": [
    "**9. What are the list concatenation and list replication operators?**"
   ]
  },
  {
   "cell_type": "code",
   "execution_count": 9,
   "id": "b4b3ea7b",
   "metadata": {},
   "outputs": [
    {
     "name": "stdout",
     "output_type": "stream",
     "text": [
      "List concatenation operator is +\n",
      "List replication operator is *\n"
     ]
    }
   ],
   "source": [
    "# List concatenation operator is +\n",
    "# List replication operator is *\n"
   ]
  },
  {
   "cell_type": "markdown",
   "id": "8f23a00c",
   "metadata": {},
   "source": [
    "**10. What is the difference between the list methods append() and insert()?**"
   ]
  },
  {
   "cell_type": "code",
   "execution_count": 10,
   "id": "362b4b93",
   "metadata": {},
   "outputs": [
    {
     "name": "stdout",
     "output_type": "stream",
     "text": [
      "append() adds an element to the end of the list\n",
      "insert() adds an element at a specified position in the list\n"
     ]
    }
   ],
   "source": [
    "# append() adds an element to the end of the list\n",
    "# insert() adds an element at a specified position in the list\n"
   ]
  },
  {
   "cell_type": "markdown",
   "id": "88513e28",
   "metadata": {},
   "source": [
    "**11. What are the two methods for removing items from a list?**"
   ]
  },
  {
   "cell_type": "code",
   "execution_count": 11,
   "id": "b0d17d5e",
   "metadata": {},
   "outputs": [
    {
     "name": "stdout",
     "output_type": "stream",
     "text": [
      "The two methods are remove() and pop()\n"
     ]
    }
   ],
   "source": [
    "# The two methods are remove() and pop()\n"
   ]
  },
  {
   "cell_type": "markdown",
   "id": "13c40616",
   "metadata": {},
   "source": [
    "**12. Describe how list values and string values are identical.**"
   ]
  },
  {
   "cell_type": "code",
   "execution_count": 12,
   "id": "4dec2e86",
   "metadata": {},
   "outputs": [
    {
     "name": "stdout",
     "output_type": "stream",
     "text": [
      "Both lists and strings are sequences that can be indexed, sliced, and iterated over.\n"
     ]
    }
   ],
   "source": [
    "# Both lists and strings are sequences that can be indexed, sliced, and iterated over.\n"
   ]
  },
  {
   "cell_type": "markdown",
   "id": "bcf1822e",
   "metadata": {},
   "source": [
    "**13. What's the difference between tuples and lists?**"
   ]
  },
  {
   "cell_type": "code",
   "execution_count": 13,
   "id": "58ca4594",
   "metadata": {},
   "outputs": [
    {
     "name": "stdout",
     "output_type": "stream",
     "text": [
      "Tuples are immutable (cannot be changed), while lists are mutable (can be changed).\n"
     ]
    }
   ],
   "source": [
    "# Tuples are immutable (cannot be changed), while lists are mutable (can be changed).\n"
   ]
  },
  {
   "cell_type": "markdown",
   "id": "a90ee539",
   "metadata": {},
   "source": [
    "**14. How do you type a tuple value that only contains the integer 42?**"
   ]
  },
  {
   "cell_type": "code",
   "execution_count": 14,
   "id": "e16ef7f2",
   "metadata": {},
   "outputs": [
    {
     "name": "stdout",
     "output_type": "stream",
     "text": [
      "(42,)\n"
     ]
    }
   ],
   "source": [
    "# (42,) creates a tuple with a single element 42\n",
    "tuple_value = (42,)\n",
    "tuple_value\n"
   ]
  },
  {
   "cell_type": "markdown",
   "id": "fa78313a",
   "metadata": {},
   "source": [
    "**15. How do you get a list value's tuple form? How do you get a tuple value's list form?**"
   ]
  },
  {
   "cell_type": "code",
   "execution_count": 15,
   "id": "4b82c135",
   "metadata": {},
   "outputs": [
    {
     "name": "stdout",
     "output_type": "stream",
     "text": [
      "Use tuple(list) to convert a list to a tuple.\n",
      "Use list(tuple) to convert a tuple to a list.\n"
     ]
    }
   ],
   "source": [
    "# Use tuple(list) to convert a list to a tuple.\n",
    "# Use list(tuple) to convert a tuple to a list.\n"
   ]
  },
  {
   "cell_type": "markdown",
   "id": "c26a4f91",
   "metadata": {},
   "source": [
    "**16. Variables that \"contain\" list values are not necessarily lists themselves. Instead, what do they contain?**"
   ]
  },
  {
   "cell_type": "code",
   "execution_count": 16,
   "id": "7b6b5a59",
   "metadata": {},
   "outputs": [
    {
     "name": "stdout",
     "output_type": "stream",
     "text": [
      "They contain references to the list objects.\n"
     ]
    }
   ],
   "source": [
    "# They contain references to the list objects.\n"
   ]
  },
  {
   "cell_type": "markdown",
   "id": "c21c1f3a",
   "metadata": {},
   "source": [
    "**17. How do you distinguish between copy.copy() and copy.deepcopy()?**"
   ]
  },
  {
   "cell_type": "code",
   "execution_count": 17,
   "id": "434c079f",
   "metadata": {},
   "outputs": [
    {
     "name": "stdout",
     "output_type": "stream",
     "text": [
      "copy.copy() creates a shallow copy of an object (nested objects are still referenced).\n",
      "copy.deepcopy() creates a deep copy of an object (nested objects are also copied).\n"
     ]
    }
   ],
   "source": [
    "# copy.copy() creates a shallow copy of an object (nested objects are still referenced).\n",
    "# copy.deepcopy() creates a deep copy of an object (nested objects are also copied).\n"
   ]
  }
 ],
 "metadata": {
  "kernelspec": {
   "display_name": "Python 3 (ipykernel)",
   "language": "python",
   "name": "python3"
  },
  "language_info": {
   "codemirror_mode": {
    "name": "ipython",
    "version": 3
   },
   "file_extension": ".py",
   "mimetype": "text/x-python",
   "name": "python",
   "nbconvert_exporter": "python",
   "pygments_lexer": "ipython3",
   "version": "3.11.7"
  }
 },
 "nbformat": 4,
 "nbformat_minor": 5
}
