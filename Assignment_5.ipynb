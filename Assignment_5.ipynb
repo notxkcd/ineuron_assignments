{
 "cells": [
  {
   "cell_type": "markdown",
   "id": "3618529a",
   "metadata": {},
   "source": [
    "**1. What does an empty dictionary's code look like?**"
   ]
  },
  {
   "cell_type": "code",
   "execution_count": 7,
   "id": "f6e66e8f",
   "metadata": {},
   "outputs": [
    {
     "data": {
      "text/plain": [
       "{}"
      ]
     },
     "execution_count": 7,
     "metadata": {},
     "output_type": "execute_result"
    }
   ],
   "source": [
    "# An empty dictionary is represented by {}\n",
    "empty_dict = {}\n",
    "empty_dict\n"
   ]
  },
  {
   "cell_type": "markdown",
   "id": "359b6cc2",
   "metadata": {},
   "source": [
    "**2. What is the value of a dictionary value with the key 'foo' and the value 42?**"
   ]
  },
  {
   "cell_type": "code",
   "execution_count": 8,
   "id": "68f69213",
   "metadata": {},
   "outputs": [
    {
     "data": {
      "text/plain": [
       "{'foo': 42}"
      ]
     },
     "execution_count": 8,
     "metadata": {},
     "output_type": "execute_result"
    }
   ],
   "source": [
    "spam = {'foo': 42}\n",
    "spam\n"
   ]
  },
  {
   "cell_type": "markdown",
   "id": "964a656b",
   "metadata": {},
   "source": [
    "**3. What is the most significant distinction between a dictionary and a list?**"
   ]
  },
  {
   "cell_type": "code",
   "execution_count": 9,
   "id": "c702514a",
   "metadata": {},
   "outputs": [],
   "source": [
    "# Dictionaries store key-value pairs; lists store values in an ordered sequence.\n"
   ]
  },
  {
   "cell_type": "markdown",
   "id": "66dff512",
   "metadata": {},
   "source": [
    "**4. What happens if you try to access spam['foo'] if spam is {'bar': 100}?**"
   ]
  },
  {
   "cell_type": "code",
   "execution_count": 10,
   "id": "09877c57",
   "metadata": {},
   "outputs": [
    {
     "ename": "KeyError",
     "evalue": "'foo'",
     "output_type": "error",
     "traceback": [
      "\u001b[0;31m---------------------------------------------------------------------------\u001b[0m",
      "\u001b[0;31mKeyError\u001b[0m                                  Traceback (most recent call last)",
      "Cell \u001b[0;32mIn[10], line 3\u001b[0m\n\u001b[1;32m      1\u001b[0m spam \u001b[38;5;241m=\u001b[39m {\u001b[38;5;124m'\u001b[39m\u001b[38;5;124mbar\u001b[39m\u001b[38;5;124m'\u001b[39m: \u001b[38;5;241m100\u001b[39m}\n\u001b[1;32m      2\u001b[0m \u001b[38;5;66;03m# Attempting to access a key that doesn't exist results in a KeyError.\u001b[39;00m\n\u001b[0;32m----> 3\u001b[0m spam[\u001b[38;5;124m'\u001b[39m\u001b[38;5;124mfoo\u001b[39m\u001b[38;5;124m'\u001b[39m]\n",
      "\u001b[0;31mKeyError\u001b[0m: 'foo'"
     ]
    }
   ],
   "source": [
    "spam = {'bar': 100}\n",
    "# Attempting to access a key that doesn't exist results in a KeyError.\n",
    "spam['foo']"
   ]
  },
  {
   "cell_type": "markdown",
   "id": "b39e245c",
   "metadata": {},
   "source": [
    "**5. If a dictionary is stored in spam, what is the difference between the expressions 'cat' in spam and 'cat' in spam.keys()?**"
   ]
  },
  {
   "cell_type": "code",
   "execution_count": null,
   "id": "0ff95ce2",
   "metadata": {},
   "outputs": [],
   "source": [
    "# 'cat' in spam checks if 'cat' is a key in the dictionary.\n",
    "# 'cat' in spam.keys() does the same but explicitly checks in the keys.\n"
   ]
  },
  {
   "cell_type": "markdown",
   "id": "fdb3160a",
   "metadata": {},
   "source": [
    "**6. If a dictionary is stored in spam, what is the difference between the expressions 'cat' in spam and 'cat' in spam.values()?**"
   ]
  },
  {
   "cell_type": "code",
   "execution_count": null,
   "id": "5e8073df",
   "metadata": {},
   "outputs": [],
   "source": [
    "# 'cat' in spam checks if 'cat' is a key.\n",
    "# 'cat' in spam.values() checks if 'cat' is a value in the dictionary.\n"
   ]
  },
  {
   "cell_type": "markdown",
   "id": "850d175e",
   "metadata": {},
   "source": [
    "**7. What is a shortcut for the following code?**\n",
    "\n",
    "```python\n",
    "if 'color' not in spam:\n",
    "    spam['color'] = 'black'\n",
    "```"
   ]
  },
  {
   "cell_type": "code",
   "execution_count": null,
   "id": "d5f38a5d",
   "metadata": {},
   "outputs": [],
   "source": [
    "# The shortcut is to use setdefault:\n",
    "spam.setdefault('color', 'black')\n"
   ]
  },
  {
   "cell_type": "markdown",
   "id": "043e9a14",
   "metadata": {},
   "source": [
    "**8. How do you 'pretty print' dictionary values using which module and function?**"
   ]
  },
  {
   "cell_type": "code",
   "execution_count": 11,
   "id": "33292fab",
   "metadata": {},
   "outputs": [
    {
     "name": "stdout",
     "output_type": "stream",
     "text": [
      "{'foo': 'bar', 'key': 'value', 'nested': {'a': 1, 'b': 2}}\n"
     ]
    }
   ],
   "source": [
    "# Use the pprint module and pprint() function for pretty printing.\n",
    "import pprint\n",
    "pprint.pprint({'key': 'value', 'foo': 'bar', 'nested': {'a': 1, 'b': 2}})\n"
   ]
  }
 ],
 "metadata": {
  "kernelspec": {
   "display_name": "Python 3 (ipykernel)",
   "language": "python",
   "name": "python3"
  },
  "language_info": {
   "codemirror_mode": {
    "name": "ipython",
    "version": 3
   },
   "file_extension": ".py",
   "mimetype": "text/x-python",
   "name": "python",
   "nbconvert_exporter": "python",
   "pygments_lexer": "ipython3",
   "version": "3.11.7"
  }
 },
 "nbformat": 4,
 "nbformat_minor": 5
}
